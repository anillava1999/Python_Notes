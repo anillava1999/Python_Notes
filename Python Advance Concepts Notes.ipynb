{
 "cells": [
  {
   "cell_type": "markdown",
   "id": "0b16928a",
   "metadata": {},
   "source": [
    "<h1><center>Python Advance Concepts Notes"
   ]
  },
  {
   "cell_type": "markdown",
   "id": "add5bc03",
   "metadata": {},
   "source": [
    "## Class"
   ]
  },
  {
   "cell_type": "markdown",
   "id": "a85ec86a",
   "metadata": {},
   "source": [
    "A Class is like an object constructor, or a \"blueprint\" for creating objects."
   ]
  },
  {
   "cell_type": "markdown",
   "id": "7af1ff90",
   "metadata": {},
   "source": [
    "**Syntax**\n",
    "\n",
    "        class classname:\n",
    "        \n",
    "            def functionname():\n",
    "                    body"
   ]
  },
  {
   "cell_type": "code",
   "execution_count": 3,
   "id": "6230f8b8",
   "metadata": {},
   "outputs": [],
   "source": [
    "class myclass:\n",
    "    \n",
    "    def func():\n",
    "        print(\"Hello world!\")"
   ]
  },
  {
   "cell_type": "markdown",
   "id": "2080b819",
   "metadata": {},
   "source": [
    "## Object"
   ]
  },
  {
   "cell_type": "markdown",
   "id": "6bd29959",
   "metadata": {},
   "source": [
    "Almost everything in Python is an object, with its properties and methods."
   ]
  },
  {
   "cell_type": "code",
   "execution_count": 4,
   "id": "2321218b",
   "metadata": {},
   "outputs": [],
   "source": [
    "c = myclass"
   ]
  },
  {
   "cell_type": "markdown",
   "id": "90afcf2b",
   "metadata": {},
   "source": [
    "**Calling function with help of object** "
   ]
  },
  {
   "cell_type": "code",
   "execution_count": 5,
   "id": "bfa63cc5",
   "metadata": {},
   "outputs": [
    {
     "name": "stdout",
     "output_type": "stream",
     "text": [
      "Hello world!\n"
     ]
    }
   ],
   "source": [
    "c.func()"
   ]
  },
  {
   "cell_type": "markdown",
   "id": "9b8e8303",
   "metadata": {},
   "source": [
    "### The __init__() Function"
   ]
  },
  {
   "cell_type": "markdown",
   "id": "7fca353e",
   "metadata": {},
   "source": [
    "It is a constructor of the class\n",
    "\n",
    "* constructor means run automatically without being call\n",
    "* call the method while creating object "
   ]
  },
  {
   "cell_type": "code",
   "execution_count": 12,
   "id": "f396fb06",
   "metadata": {},
   "outputs": [],
   "source": [
    "class person:\n",
    "    def __init__(self,name,age):\n",
    "        self.name = name          ## Encalpsulation\n",
    "        self.age = age            ## Encalpsulation\n",
    "        "
   ]
  },
  {
   "cell_type": "code",
   "execution_count": 13,
   "id": "94cbdd1c",
   "metadata": {},
   "outputs": [
    {
     "name": "stdout",
     "output_type": "stream",
     "text": [
      "anil\n",
      "12\n"
     ]
    }
   ],
   "source": [
    "c = person('anil',12)\n",
    "print(c.name)\n",
    "print(c.age)"
   ]
  },
  {
   "cell_type": "markdown",
   "id": "a5a7b0f3",
   "metadata": {},
   "source": [
    "The self parameter is a reference to the current instance of the class, and is used to access variables that belongs to the class.\n",
    "\n"
   ]
  },
  {
   "cell_type": "markdown",
   "id": "cfc05cca",
   "metadata": {},
   "source": [
    "## Inheritance"
   ]
  },
  {
   "cell_type": "markdown",
   "id": "bad6af18",
   "metadata": {},
   "source": [
    "Inheritance allows us to define a class that inherits all the methods and properties from another class.\n",
    "\n",
    "**Parent class** is the class being inherited from, also called base class.\n",
    "\n",
    "**Child class** is the class that inherits from another class, also called derived class."
   ]
  },
  {
   "cell_type": "code",
   "execution_count": 19,
   "id": "0d86c668",
   "metadata": {},
   "outputs": [],
   "source": [
    "class parent:\n",
    "    def employee(self,name,age):\n",
    "        return name,age"
   ]
  },
  {
   "cell_type": "code",
   "execution_count": 20,
   "id": "e783f23b",
   "metadata": {},
   "outputs": [],
   "source": [
    "class child(parent):\n",
    "    pass\n",
    "    "
   ]
  },
  {
   "cell_type": "code",
   "execution_count": 21,
   "id": "67d11f21",
   "metadata": {},
   "outputs": [],
   "source": [
    "c = child()"
   ]
  },
  {
   "cell_type": "code",
   "execution_count": 22,
   "id": "86c870fe",
   "metadata": {},
   "outputs": [
    {
     "data": {
      "text/plain": [
       "('anil', 23)"
      ]
     },
     "execution_count": 22,
     "metadata": {},
     "output_type": "execute_result"
    }
   ],
   "source": [
    "c.employee('anil',23)"
   ]
  },
  {
   "cell_type": "markdown",
   "id": "e7ddcb35",
   "metadata": {},
   "source": [
    "Python also has a super() function that will make the child class inherit all the methods and properties from its parent:"
   ]
  },
  {
   "cell_type": "code",
   "execution_count": 25,
   "id": "43e66e1f",
   "metadata": {},
   "outputs": [],
   "source": [
    "class child(parent):\n",
    "  def __init__(self, name, age):\n",
    "    super().__init__(name, age)"
   ]
  },
  {
   "cell_type": "markdown",
   "id": "da48e2f9",
   "metadata": {},
   "source": [
    "## Polymorphism"
   ]
  },
  {
   "cell_type": "markdown",
   "id": "0a8a57d8",
   "metadata": {},
   "source": [
    "The word polymorphism means having many forms. In programming, polymorphism means the same function name (but different signatures) being used for different types. The key difference is the data types and number of arguments used in function."
   ]
  },
  {
   "cell_type": "code",
   "execution_count": 26,
   "id": "3d0081f9",
   "metadata": {},
   "outputs": [
    {
     "name": "stdout",
     "output_type": "stream",
     "text": [
      "5\n",
      "9\n"
     ]
    }
   ],
   "source": [
    "# A simple Python function to demonstrate\n",
    "# Polymorphism\n",
    "\n",
    "def add(x, y, z = 0):\n",
    "\treturn x + y+z\n",
    "\n",
    "# Driver code\n",
    "print(add(2, 3))\n",
    "print(add(2, 3, 4))\n"
   ]
  },
  {
   "cell_type": "markdown",
   "id": "9ee484d5",
   "metadata": {},
   "source": [
    "## Encapsulation"
   ]
  },
  {
   "cell_type": "markdown",
   "id": "3742f5d7",
   "metadata": {},
   "source": [
    "Encapsulation is a mechanism of wrapping the data (variables) and code acting on the data (methods) together as a single unit. \n",
    "\n",
    "In encapsulation, the variables of a class will be hidden from other classes, and can be accessed only through the methods of their current class"
   ]
  },
  {
   "cell_type": "code",
   "execution_count": 27,
   "id": "6649f702",
   "metadata": {},
   "outputs": [],
   "source": [
    "class Students:\n",
    "   def __init__(self, name, rank, points):\n",
    "      self.name = name                       ## Encapsulation \n",
    "      self.rank = rank\n",
    "      self.points = points\n",
    "\n",
    "   # custom function\n",
    "   def demofunc(self):\n",
    "      print(\"I am \"+self.name)\n",
    "      print(\"I got Rank \",+self.rank)"
   ]
  },
  {
   "cell_type": "markdown",
   "id": "1328dfd5",
   "metadata": {},
   "source": [
    "## File Handling"
   ]
  },
  {
   "cell_type": "markdown",
   "id": "2c65e491",
   "metadata": {},
   "source": [
    "File handling is an important part of any web application.\n",
    "\n",
    "Python has several functions for creating, reading, updating, and deleting files."
   ]
  },
  {
   "cell_type": "markdown",
   "id": "5b09f1bb",
   "metadata": {},
   "source": [
    "The key function for working with files in Python is the open() function.\n",
    "\n",
    "The open() function takes two parameters; filename, and mode.\n",
    "\n",
    "There are four different methods (modes) for opening a file:\n",
    "\n",
    "\"r\" - Read - Default value. Opens a file for reading, error if the file does not exist\n",
    "\n",
    "\"a\" - Append - Opens a file for appending, creates the file if it does not exist\n",
    "\n",
    "\"w\" - Write - Opens a file for writing, creates the file if it does not exist\n",
    "\n",
    "\"x\" - Create - Creates the specified file, returns an error if the file exists\n",
    "\n",
    "In addition you can specify if the file should be handled as binary or text mode\n",
    "\n",
    "\"t\" - Text - Default value. Text mode\n",
    "\n",
    "\"b\" - Binary - Binary mode (e.g. images)"
   ]
  },
  {
   "cell_type": "markdown",
   "id": "da808152",
   "metadata": {},
   "source": [
    "**To open a file for reading it is enough to specify the name of the file:**\n",
    "\n"
   ]
  },
  {
   "cell_type": "code",
   "execution_count": null,
   "id": "dcbaa6a5",
   "metadata": {},
   "outputs": [],
   "source": [
    "f = open(\"demofile.txt\")    OR     f = open(\"demofile.txt\", \"rt\")"
   ]
  },
  {
   "cell_type": "markdown",
   "id": "bb2c0553",
   "metadata": {},
   "source": [
    "**To Read Files**"
   ]
  },
  {
   "cell_type": "code",
   "execution_count": null,
   "id": "4e90379d",
   "metadata": {},
   "outputs": [],
   "source": [
    "f = open(\"demofile.txt\", \"r\")\n",
    "print(f.read())"
   ]
  },
  {
   "cell_type": "markdown",
   "id": "b814698e",
   "metadata": {},
   "source": [
    "**To Write and Create Files**"
   ]
  },
  {
   "cell_type": "code",
   "execution_count": null,
   "id": "faaeaa58",
   "metadata": {},
   "outputs": [],
   "source": [
    "f = open(\"demofile2.txt\", \"a\")\n",
    "f.write(\"Now the file has more content!\")\n",
    "f.close()\n",
    "\n",
    "#open and read the file after the appending:\n",
    "f = open(\"demofile2.txt\", \"r\")\n",
    "print(f.read())"
   ]
  },
  {
   "cell_type": "markdown",
   "id": "b44c3d23",
   "metadata": {},
   "source": [
    "Create a file called \"myfile.txt\":"
   ]
  },
  {
   "cell_type": "code",
   "execution_count": null,
   "id": "d3f13c9c",
   "metadata": {},
   "outputs": [],
   "source": [
    "f = open(\"myfile.txt\", \"x\")"
   ]
  },
  {
   "cell_type": "markdown",
   "id": "bb4bc59d",
   "metadata": {},
   "source": [
    "**To delete File**"
   ]
  },
  {
   "cell_type": "code",
   "execution_count": null,
   "id": "c4b75f3f",
   "metadata": {},
   "outputs": [],
   "source": [
    "import os\n",
    "os.remove(\"demofile.txt\")"
   ]
  },
  {
   "cell_type": "markdown",
   "id": "053621f7",
   "metadata": {},
   "source": [
    "## Exception Handling\n",
    "When an error occurs, or exception as we call it, Python will normally stop and generate an error message.\n",
    "\n",
    "These exceptions can be handled using the try statement:"
   ]
  },
  {
   "cell_type": "raw",
   "id": "d310341d",
   "metadata": {},
   "source": [
    "try:\n",
    "  print(x)\n",
    "except:\n",
    "  print(\"An exception occurred\")"
   ]
  },
  {
   "cell_type": "markdown",
   "id": "de2aade0",
   "metadata": {},
   "source": [
    "### Finally\n",
    "The finally block, if specified, will be executed regardless if the try block raises an error or not."
   ]
  },
  {
   "cell_type": "raw",
   "id": "72a59096",
   "metadata": {},
   "source": [
    "try:\n",
    "  print(x)\n",
    "except:\n",
    "  print(\"Something went wrong\")\n",
    "finally:\n",
    "  print(\"The 'try except' is finished\")"
   ]
  },
  {
   "cell_type": "markdown",
   "id": "00d2b9f5",
   "metadata": {},
   "source": [
    "## Raise an exception (Custom Exception)\n",
    "As a Python developer you can choose to throw an exception if a condition occurs.\n",
    "\n",
    "To throw (or raise) an exception, use the raise keyword."
   ]
  },
  {
   "cell_type": "code",
   "execution_count": 34,
   "id": "f777401e",
   "metadata": {},
   "outputs": [
    {
     "ename": "Exception",
     "evalue": "Sorry, no numbers below zero",
     "output_type": "error",
     "traceback": [
      "\u001b[0;31m---------------------------------------------------------------------------\u001b[0m",
      "\u001b[0;31mException\u001b[0m                                 Traceback (most recent call last)",
      "Input \u001b[0;32mIn [34]\u001b[0m, in \u001b[0;36m<cell line: 3>\u001b[0;34m()\u001b[0m\n\u001b[1;32m      1\u001b[0m x \u001b[38;5;241m=\u001b[39m \u001b[38;5;241m-\u001b[39m\u001b[38;5;241m1\u001b[39m\n\u001b[1;32m      3\u001b[0m \u001b[38;5;28;01mif\u001b[39;00m x \u001b[38;5;241m<\u001b[39m \u001b[38;5;241m0\u001b[39m:\n\u001b[0;32m----> 4\u001b[0m     \u001b[38;5;28;01mraise\u001b[39;00m \u001b[38;5;167;01mException\u001b[39;00m(\u001b[38;5;124m\"\u001b[39m\u001b[38;5;124mSorry, no numbers below zero\u001b[39m\u001b[38;5;124m\"\u001b[39m)\n",
      "\u001b[0;31mException\u001b[0m: Sorry, no numbers below zero"
     ]
    }
   ],
   "source": [
    "x = -1\n",
    "\n",
    "if x < 0:\n",
    "    raise Exception(\"Sorry, no numbers below zero\")"
   ]
  },
  {
   "cell_type": "code",
   "execution_count": null,
   "id": "33bfa0d2",
   "metadata": {},
   "outputs": [],
   "source": []
  }
 ],
 "metadata": {
  "kernelspec": {
   "display_name": "Python 3 (ipykernel)",
   "language": "python",
   "name": "python3"
  },
  "language_info": {
   "codemirror_mode": {
    "name": "ipython",
    "version": 3
   },
   "file_extension": ".py",
   "mimetype": "text/x-python",
   "name": "python",
   "nbconvert_exporter": "python",
   "pygments_lexer": "ipython3",
   "version": "3.9.12"
  }
 },
 "nbformat": 4,
 "nbformat_minor": 5
}
