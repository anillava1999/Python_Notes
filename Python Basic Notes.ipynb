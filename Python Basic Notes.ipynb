{
 "cells": [
  {
   "cell_type": "markdown",
   "id": "51dee648",
   "metadata": {},
   "source": [
    "# <h1><center>PYTHON</center></h1> "
   ]
  },
  {
   "cell_type": "markdown",
   "id": "afc615cf",
   "metadata": {},
   "source": [
    "* Python is a scripting language\n",
    "* Easy to understand \n",
    "* Object oriented programming language\n",
    "* it contains so many built in functions and libraries\n"
   ]
  },
  {
   "cell_type": "markdown",
   "id": "c632d8ba",
   "metadata": {},
   "source": [
    "## Variable :\n",
    "\n",
    "Storing some value or some data to the reference is know as variable.\n",
    "    \n",
    "    \n",
    "    "
   ]
  },
  {
   "cell_type": "markdown",
   "id": "08195c1a",
   "metadata": {},
   "source": [
    "### Syntax :\n",
    "           A = 10         A is Reference and 10 is data(value)\n",
    "           B = 2.5\n",
    "           C = True\n",
    "           D = 3 + 2j\n",
    "           E = \"hero\""
   ]
  },
  {
   "cell_type": "markdown",
   "id": "cd83297b",
   "metadata": {},
   "source": [
    "### Example"
   ]
  },
  {
   "cell_type": "code",
   "execution_count": 10,
   "id": "4243c423",
   "metadata": {},
   "outputs": [],
   "source": [
    "A = 10 "
   ]
  },
  {
   "cell_type": "code",
   "execution_count": 11,
   "id": "b8960cc3",
   "metadata": {},
   "outputs": [
    {
     "data": {
      "text/plain": [
       "10"
      ]
     },
     "execution_count": 11,
     "metadata": {},
     "output_type": "execute_result"
    }
   ],
   "source": [
    "A"
   ]
  },
  {
   "cell_type": "markdown",
   "id": "4a3ce061",
   "metadata": {},
   "source": [
    "### Local variable and Global Variable\n",
    "\n",
    "* variable which declare inside the method is called local varaible\n",
    "* variable which declare outside the method is called global varaible"
   ]
  },
  {
   "cell_type": "code",
   "execution_count": 279,
   "id": "1ecbe626",
   "metadata": {},
   "outputs": [],
   "source": [
    "A = 10     # Global variable\n",
    "def sun():\n",
    "    B = 20 # local variable"
   ]
  },
  {
   "cell_type": "markdown",
   "id": "792d762b",
   "metadata": {},
   "source": [
    "## Type() :\n",
    "\n",
    " Type() function is used to find the data type of the reference variable\n",
    "\n",
    "### Syntax :\n",
    "                type(Variable name)"
   ]
  },
  {
   "cell_type": "markdown",
   "id": "cd51e652",
   "metadata": {},
   "source": [
    "### Example"
   ]
  },
  {
   "cell_type": "code",
   "execution_count": 16,
   "id": "3da54b8e",
   "metadata": {},
   "outputs": [
    {
     "data": {
      "text/plain": [
       "int"
      ]
     },
     "execution_count": 16,
     "metadata": {},
     "output_type": "execute_result"
    }
   ],
   "source": [
    "type(A)"
   ]
  },
  {
   "cell_type": "markdown",
   "id": "648c50c6",
   "metadata": {},
   "source": [
    "## Type Casting :\n",
    "\n",
    "Conversion of one data type into another data type is called Type casting\n",
    "\n",
    "### Syntax :\n",
    "                datatype(variable name)\n",
    "                \n",
    "                             "
   ]
  },
  {
   "cell_type": "markdown",
   "id": "391f74f1",
   "metadata": {},
   "source": [
    "### Example "
   ]
  },
  {
   "cell_type": "markdown",
   "id": "2b57799a",
   "metadata": {},
   "source": [
    "* conversion of integer to string "
   ]
  },
  {
   "cell_type": "code",
   "execution_count": 29,
   "id": "2438d950",
   "metadata": {},
   "outputs": [
    {
     "data": {
      "text/plain": [
       "'10'"
      ]
     },
     "execution_count": 29,
     "metadata": {},
     "output_type": "execute_result"
    }
   ],
   "source": [
    "str(A)"
   ]
  },
  {
   "cell_type": "markdown",
   "id": "5fce6a02",
   "metadata": {},
   "source": [
    "* conversion of float to integer "
   ]
  },
  {
   "cell_type": "code",
   "execution_count": 30,
   "id": "22c73f3f",
   "metadata": {},
   "outputs": [
    {
     "data": {
      "text/plain": [
       "2"
      ]
     },
     "execution_count": 30,
     "metadata": {},
     "output_type": "execute_result"
    }
   ],
   "source": [
    "B = 2.5   ## B reference contains float value(2.5)\n",
    "\n",
    "int(B) "
   ]
  },
  {
   "cell_type": "markdown",
   "id": "73bff645",
   "metadata": {},
   "source": [
    "## Indexing :\n",
    "\n",
    "Accessing character or data from the string or other data types we use index technique\n",
    "\n",
    "\n"
   ]
  },
  {
   "cell_type": "markdown",
   "id": "1c5ab9f6",
   "metadata": {},
   "source": [
    "### Syntax\n",
    "\n",
    "             * Data type[ Index number ]\n",
    "           "
   ]
  },
  {
   "cell_type": "markdown",
   "id": "2f35acf2",
   "metadata": {},
   "source": [
    "### Example "
   ]
  },
  {
   "cell_type": "markdown",
   "id": "b0636134",
   "metadata": {},
   "source": [
    "* Example 1 : Accessing 1st index values from 'Data Science word'"
   ]
  },
  {
   "cell_type": "code",
   "execution_count": 33,
   "id": "2f271794",
   "metadata": {},
   "outputs": [
    {
     "data": {
      "text/plain": [
       "'a'"
      ]
     },
     "execution_count": 33,
     "metadata": {},
     "output_type": "execute_result"
    }
   ],
   "source": [
    "A = \"Data Science\"\n",
    "\n",
    "A[1]     # Positive indexing"
   ]
  },
  {
   "cell_type": "markdown",
   "id": "8b4c43ab",
   "metadata": {},
   "source": [
    "* it's positive indexing we can see negative index also"
   ]
  },
  {
   "cell_type": "code",
   "execution_count": 34,
   "id": "393af73e",
   "metadata": {},
   "outputs": [
    {
     "data": {
      "text/plain": [
       "'e'"
      ]
     },
     "execution_count": 34,
     "metadata": {},
     "output_type": "execute_result"
    }
   ],
   "source": [
    "A[-1]  # Negative Indexing"
   ]
  },
  {
   "cell_type": "markdown",
   "id": "33bb19e4",
   "metadata": {},
   "source": [
    "## Slicing"
   ]
  },
  {
   "cell_type": "markdown",
   "id": "e51f38dc",
   "metadata": {},
   "source": [
    "* Accessing data from one point to another "
   ]
  },
  {
   "cell_type": "code",
   "execution_count": 37,
   "id": "9d6674c2",
   "metadata": {},
   "outputs": [
    {
     "data": {
      "text/plain": [
       "'ata Science'"
      ]
     },
     "execution_count": 37,
     "metadata": {},
     "output_type": "execute_result"
    }
   ],
   "source": [
    "A[1:12]"
   ]
  },
  {
   "cell_type": "markdown",
   "id": "bcb48cee",
   "metadata": {},
   "source": [
    "* we can also access the data from reverse direction using slicing concept "
   ]
  },
  {
   "cell_type": "code",
   "execution_count": 43,
   "id": "c2c52a60",
   "metadata": {},
   "outputs": [
    {
     "data": {
      "text/plain": [
       "'ecneicS ataD'"
      ]
     },
     "execution_count": 43,
     "metadata": {},
     "output_type": "execute_result"
    }
   ],
   "source": [
    "A[-1:-13:-1]  # [ Start Point : End Point : Jumping value ]"
   ]
  },
  {
   "cell_type": "code",
   "execution_count": 44,
   "id": "81aa28ab",
   "metadata": {},
   "outputs": [
    {
     "data": {
      "text/plain": [
       "'aaSine'"
      ]
     },
     "execution_count": 44,
     "metadata": {},
     "output_type": "execute_result"
    }
   ],
   "source": [
    "A[1:12:2]"
   ]
  },
  {
   "cell_type": "code",
   "execution_count": 41,
   "id": "f8b44e00",
   "metadata": {},
   "outputs": [
    {
     "data": {
      "text/plain": [
       "'Data Scienc'"
      ]
     },
     "execution_count": 41,
     "metadata": {},
     "output_type": "execute_result"
    }
   ],
   "source": [
    "A[-13:-1]   "
   ]
  },
  {
   "cell_type": "code",
   "execution_count": 53,
   "id": "901504fe",
   "metadata": {},
   "outputs": [
    {
     "data": {
      "text/plain": [
       "'a'"
      ]
     },
     "execution_count": 53,
     "metadata": {},
     "output_type": "execute_result"
    }
   ],
   "source": [
    "A[1:-12:-1]  # -1-1 = 2 soo D[a]ta Science word in 2nd negative index "
   ]
  },
  {
   "cell_type": "markdown",
   "id": "a3ffb2dd",
   "metadata": {},
   "source": [
    "## Concantenation\n",
    "\n",
    "Merging two value into one value is called concantenation"
   ]
  },
  {
   "cell_type": "code",
   "execution_count": 61,
   "id": "0882f691",
   "metadata": {},
   "outputs": [],
   "source": [
    "A = \"Anil\"\n",
    "B = \"Lava Kumar\""
   ]
  },
  {
   "cell_type": "markdown",
   "id": "7b94ad51",
   "metadata": {},
   "source": [
    "* We use \" + \" operator to perform concantenation function"
   ]
  },
  {
   "cell_type": "code",
   "execution_count": 55,
   "id": "393906ea",
   "metadata": {},
   "outputs": [
    {
     "data": {
      "text/plain": [
       "'AnilLava Kumar'"
      ]
     },
     "execution_count": 55,
     "metadata": {},
     "output_type": "execute_result"
    }
   ],
   "source": [
    "A + B"
   ]
  },
  {
   "cell_type": "code",
   "execution_count": 56,
   "id": "042e854f",
   "metadata": {},
   "outputs": [
    {
     "data": {
      "text/plain": [
       "'Anil Lava Kumar'"
      ]
     },
     "execution_count": 56,
     "metadata": {},
     "output_type": "execute_result"
    }
   ],
   "source": [
    "A + \" \" + B"
   ]
  },
  {
   "cell_type": "markdown",
   "id": "53b7dda0",
   "metadata": {},
   "source": [
    "## Length\n",
    "\n",
    "len( Varibale Name ) -- > Length function is used find the length of the string or other data types"
   ]
  },
  {
   "cell_type": "code",
   "execution_count": 58,
   "id": "968985af",
   "metadata": {},
   "outputs": [
    {
     "data": {
      "text/plain": [
       "4"
      ]
     },
     "execution_count": 58,
     "metadata": {},
     "output_type": "execute_result"
    }
   ],
   "source": [
    "len(A)"
   ]
  },
  {
   "cell_type": "markdown",
   "id": "78525a87",
   "metadata": {},
   "source": [
    "## Find \n",
    "\n",
    "varibale name.find( character ) -- > this function is used to find the index of character in string"
   ]
  },
  {
   "cell_type": "code",
   "execution_count": 64,
   "id": "8aad6db4",
   "metadata": {},
   "outputs": [
    {
     "data": {
      "text/plain": [
       "2"
      ]
     },
     "execution_count": 64,
     "metadata": {},
     "output_type": "execute_result"
    }
   ],
   "source": [
    "A.find(\"i\")"
   ]
  },
  {
   "cell_type": "markdown",
   "id": "cbb884a6",
   "metadata": {},
   "source": [
    "## Count \n",
    "\n",
    "varibale name.count( character ) -- > this function is used to count the number of character occurs in string\n"
   ]
  },
  {
   "cell_type": "code",
   "execution_count": 65,
   "id": "526b0835",
   "metadata": {},
   "outputs": [
    {
     "data": {
      "text/plain": [
       "1"
      ]
     },
     "execution_count": 65,
     "metadata": {},
     "output_type": "execute_result"
    }
   ],
   "source": [
    "A.count(\"A\")"
   ]
  },
  {
   "cell_type": "code",
   "execution_count": 67,
   "id": "a3931a64",
   "metadata": {},
   "outputs": [
    {
     "data": {
      "text/plain": [
       "3"
      ]
     },
     "execution_count": 67,
     "metadata": {},
     "output_type": "execute_result"
    }
   ],
   "source": [
    "B.count(\"a\")"
   ]
  },
  {
   "cell_type": "markdown",
   "id": "cf3560f0",
   "metadata": {},
   "source": [
    "## Split\n",
    "\n",
    "varibale name.split( \" \" ) -- > this function is used to split the words as per the user requirements"
   ]
  },
  {
   "cell_type": "code",
   "execution_count": 71,
   "id": "4319caeb",
   "metadata": {},
   "outputs": [],
   "source": [
    "A = \"My name is anil\""
   ]
  },
  {
   "cell_type": "code",
   "execution_count": 72,
   "id": "48d28782",
   "metadata": {},
   "outputs": [
    {
     "data": {
      "text/plain": [
       "['My', 'name', 'is', 'anil']"
      ]
     },
     "execution_count": 72,
     "metadata": {},
     "output_type": "execute_result"
    }
   ],
   "source": [
    "A.split(\" \")"
   ]
  },
  {
   "cell_type": "code",
   "execution_count": 73,
   "id": "b286581a",
   "metadata": {},
   "outputs": [
    {
     "data": {
      "text/plain": [
       "['My n', 'me is ', 'nil']"
      ]
     },
     "execution_count": 73,
     "metadata": {},
     "output_type": "execute_result"
    }
   ],
   "source": [
    "A.split(\"a\")"
   ]
  },
  {
   "cell_type": "markdown",
   "id": "58e81a6c",
   "metadata": {},
   "source": [
    "## UpperCase and LowerCase\n",
    "\n",
    "This function is used to convert uppercase to lowercase and lowercase to uppercase"
   ]
  },
  {
   "cell_type": "code",
   "execution_count": 79,
   "id": "85098877",
   "metadata": {},
   "outputs": [
    {
     "data": {
      "text/plain": [
       "'MY NAME IS ANIL'"
      ]
     },
     "execution_count": 79,
     "metadata": {},
     "output_type": "execute_result"
    }
   ],
   "source": [
    "A.upper()"
   ]
  },
  {
   "cell_type": "code",
   "execution_count": 80,
   "id": "4cbd6f50",
   "metadata": {},
   "outputs": [
    {
     "data": {
      "text/plain": [
       "'my name is anil'"
      ]
     },
     "execution_count": 80,
     "metadata": {},
     "output_type": "execute_result"
    }
   ],
   "source": [
    "A.lower()"
   ]
  },
  {
   "cell_type": "markdown",
   "id": "deca007a",
   "metadata": {},
   "source": [
    "## Title\n",
    "\n",
    "This function is used to do first character as uppercase in sentence"
   ]
  },
  {
   "cell_type": "code",
   "execution_count": null,
   "id": "8e7821ba",
   "metadata": {},
   "outputs": [],
   "source": [
    "A = \"my name is anil\""
   ]
  },
  {
   "cell_type": "code",
   "execution_count": 81,
   "id": "865e3981",
   "metadata": {},
   "outputs": [
    {
     "data": {
      "text/plain": [
       "'My Name Is Anil'"
      ]
     },
     "execution_count": 81,
     "metadata": {},
     "output_type": "execute_result"
    }
   ],
   "source": [
    "A.title()"
   ]
  },
  {
   "cell_type": "markdown",
   "id": "a550322f",
   "metadata": {},
   "source": [
    "## Join \n",
    "\n",
    "it's used to join one each variable character to another variable "
   ]
  },
  {
   "cell_type": "code",
   "execution_count": 84,
   "id": "e7e95302",
   "metadata": {},
   "outputs": [
    {
     "data": {
      "text/plain": [
       "'AKumarnKumariKumarl'"
      ]
     },
     "execution_count": 84,
     "metadata": {},
     "output_type": "execute_result"
    }
   ],
   "source": [
    "A = \"Anil\"\n",
    "B = \"Kumar\"\n",
    "B.join(A)"
   ]
  },
  {
   "cell_type": "markdown",
   "id": "1662e11a",
   "metadata": {},
   "source": [
    "## Strip\n",
    "\n",
    "Strip method is used to remove the whitespace from left and right side of the sentence and we can also remove right side and left side strip by using below 2 methods\n",
    "\n",
    "* lstrip\n",
    "* rstrip"
   ]
  },
  {
   "cell_type": "code",
   "execution_count": 86,
   "id": "ebf76180",
   "metadata": {},
   "outputs": [],
   "source": [
    "A = \" my name is anil \""
   ]
  },
  {
   "cell_type": "code",
   "execution_count": 87,
   "id": "46917716",
   "metadata": {},
   "outputs": [
    {
     "data": {
      "text/plain": [
       "'my name is anil'"
      ]
     },
     "execution_count": 87,
     "metadata": {},
     "output_type": "execute_result"
    }
   ],
   "source": [
    "A.strip()"
   ]
  },
  {
   "cell_type": "markdown",
   "id": "36b6e171",
   "metadata": {},
   "source": [
    "### Right Strip "
   ]
  },
  {
   "cell_type": "code",
   "execution_count": 88,
   "id": "f1b97684",
   "metadata": {},
   "outputs": [
    {
     "data": {
      "text/plain": [
       "' my name is anil'"
      ]
     },
     "execution_count": 88,
     "metadata": {},
     "output_type": "execute_result"
    }
   ],
   "source": [
    "A.rstrip()"
   ]
  },
  {
   "cell_type": "markdown",
   "id": "0f8981da",
   "metadata": {},
   "source": [
    "### Left Strip"
   ]
  },
  {
   "cell_type": "code",
   "execution_count": 89,
   "id": "879a4047",
   "metadata": {},
   "outputs": [
    {
     "data": {
      "text/plain": [
       "'my name is anil '"
      ]
     },
     "execution_count": 89,
     "metadata": {},
     "output_type": "execute_result"
    }
   ],
   "source": [
    "A.lstrip()"
   ]
  },
  {
   "cell_type": "markdown",
   "id": "c1c7d8e3",
   "metadata": {},
   "source": [
    "**Some other usefull functions**\n",
    "\n",
    "* V.isupper()\n",
    "* V.islower()\n",
    "* V.isdigit()\n",
    "* V.endswith()\n",
    "* V.startswith()\n",
    "* V.istitle()\n",
    "\n"
   ]
  },
  {
   "cell_type": "markdown",
   "id": "dcf0837f",
   "metadata": {},
   "source": [
    "**--------------------------------------------------------------------------------------------------------------------------------------------------------------------------**"
   ]
  },
  {
   "cell_type": "markdown",
   "id": "99f782e0",
   "metadata": {},
   "source": [
    "<h2><center>Advance Data Types</center></h2> "
   ]
  },
  {
   "cell_type": "markdown",
   "id": "71ff641e",
   "metadata": {},
   "source": [
    "Python Collections (Arrays) :-> It's used to store multiple items at a time \n",
    "\n",
    "There are four collection data types in the Python programming language:\n",
    "\n",
    "* List \n",
    "* Tuple \n",
    "* Set \n",
    "* Dictionary "
   ]
  },
  {
   "cell_type": "markdown",
   "id": "11c09c70",
   "metadata": {},
   "source": [
    "## List"
   ]
  },
  {
   "cell_type": "markdown",
   "id": "2dee541a",
   "metadata": {},
   "source": [
    "* it is a collection which is ordered \n",
    "* it is changeable\n",
    "* Allows duplicate members.\n",
    "* It Support all data types\n",
    "\n",
    "\n",
    "### Syntax\n",
    "\n",
    "            Variable Name = [ \"Anil\",123,True]"
   ]
  },
  {
   "cell_type": "code",
   "execution_count": 121,
   "id": "7af2ddbe",
   "metadata": {},
   "outputs": [],
   "source": [
    "Employee = [\"Anil\",\"Kumar\",973383]"
   ]
  },
  {
   "cell_type": "markdown",
   "id": "a92445e1",
   "metadata": {},
   "source": [
    "### There is some function's in List \n",
    "\n",
    "\n"
   ]
  },
  {
   "cell_type": "markdown",
   "id": "926f5044",
   "metadata": {},
   "source": [
    "### * Append () \n",
    "\n",
    "This function is used to add the element to the list at the end of the index"
   ]
  },
  {
   "cell_type": "code",
   "execution_count": 94,
   "id": "4151356e",
   "metadata": {},
   "outputs": [],
   "source": [
    "Employee.append(\"Shivamogga\")"
   ]
  },
  {
   "cell_type": "code",
   "execution_count": 95,
   "id": "ed111d54",
   "metadata": {},
   "outputs": [
    {
     "data": {
      "text/plain": [
       "['Anil', 'Kumar', 973383, 'Shivamogga']"
      ]
     },
     "execution_count": 95,
     "metadata": {},
     "output_type": "execute_result"
    }
   ],
   "source": [
    "Employee"
   ]
  },
  {
   "cell_type": "markdown",
   "id": "5b60d5bb",
   "metadata": {},
   "source": [
    "### * Pop ()\n",
    "\n",
    "This function is used to Remove the element to the list at the end of the index"
   ]
  },
  {
   "cell_type": "code",
   "execution_count": 102,
   "id": "62e4bbf7",
   "metadata": {},
   "outputs": [
    {
     "data": {
      "text/plain": [
       "973383"
      ]
     },
     "execution_count": 102,
     "metadata": {},
     "output_type": "execute_result"
    }
   ],
   "source": [
    "Employee.pop()"
   ]
  },
  {
   "cell_type": "code",
   "execution_count": 103,
   "id": "99296bf0",
   "metadata": {},
   "outputs": [
    {
     "data": {
      "text/plain": [
       "['Anil', 'Kumar']"
      ]
     },
     "execution_count": 103,
     "metadata": {},
     "output_type": "execute_result"
    }
   ],
   "source": [
    "Employee"
   ]
  },
  {
   "cell_type": "markdown",
   "id": "894d6fcb",
   "metadata": {},
   "source": [
    "This function is also used to Remove the element to the list as per the index"
   ]
  },
  {
   "cell_type": "code",
   "execution_count": 104,
   "id": "190ed067",
   "metadata": {},
   "outputs": [
    {
     "data": {
      "text/plain": [
       "'Kumar'"
      ]
     },
     "execution_count": 104,
     "metadata": {},
     "output_type": "execute_result"
    }
   ],
   "source": [
    "Employee.pop(1)"
   ]
  },
  {
   "cell_type": "code",
   "execution_count": 105,
   "id": "3aea4f91",
   "metadata": {},
   "outputs": [
    {
     "data": {
      "text/plain": [
       "['Anil']"
      ]
     },
     "execution_count": 105,
     "metadata": {},
     "output_type": "execute_result"
    }
   ],
   "source": [
    "Employee"
   ]
  },
  {
   "cell_type": "markdown",
   "id": "5cfb2b20",
   "metadata": {},
   "source": [
    "### Remove ()\n",
    "\n",
    "This function is used to remove the element on the basis of Value in the list"
   ]
  },
  {
   "cell_type": "code",
   "execution_count": 125,
   "id": "5dcd2955",
   "metadata": {},
   "outputs": [],
   "source": [
    "Employee.remove(\"Anil\")"
   ]
  },
  {
   "cell_type": "code",
   "execution_count": 126,
   "id": "3a26d031",
   "metadata": {},
   "outputs": [
    {
     "data": {
      "text/plain": [
       "['Kumar', 973383]"
      ]
     },
     "execution_count": 126,
     "metadata": {},
     "output_type": "execute_result"
    }
   ],
   "source": [
    "Employee"
   ]
  },
  {
   "cell_type": "markdown",
   "id": "092c179d",
   "metadata": {},
   "source": [
    "### * Insert ()\n",
    "\n",
    "This function is used to Insert the element to the list as per the index"
   ]
  },
  {
   "cell_type": "code",
   "execution_count": 107,
   "id": "f4e4d335",
   "metadata": {},
   "outputs": [],
   "source": [
    "Employee.insert(1,\"L\")"
   ]
  },
  {
   "cell_type": "code",
   "execution_count": 108,
   "id": "d69b9190",
   "metadata": {},
   "outputs": [
    {
     "data": {
      "text/plain": [
       "['Anil', 'L', 'Kumar', 973383]"
      ]
     },
     "execution_count": 108,
     "metadata": {},
     "output_type": "execute_result"
    }
   ],
   "source": [
    "Employee"
   ]
  },
  {
   "cell_type": "markdown",
   "id": "67ad586c",
   "metadata": {},
   "source": [
    "### * Extend ()\n",
    "\n",
    "This function is used to Concanenate the element to the list and also used to add multiple elements at time through using List"
   ]
  },
  {
   "cell_type": "code",
   "execution_count": 111,
   "id": "dd6790e0",
   "metadata": {},
   "outputs": [],
   "source": [
    "Employee.extend(['varun','kiran'])"
   ]
  },
  {
   "cell_type": "code",
   "execution_count": 112,
   "id": "ca799e26",
   "metadata": {},
   "outputs": [
    {
     "data": {
      "text/plain": [
       "['Anil', 'Kumar', 973383, 'varun', 'kiran']"
      ]
     },
     "execution_count": 112,
     "metadata": {},
     "output_type": "execute_result"
    }
   ],
   "source": [
    "Employee"
   ]
  },
  {
   "cell_type": "markdown",
   "id": "88b3aaba",
   "metadata": {},
   "source": [
    "**Difference between Extend and Append**"
   ]
  },
  {
   "cell_type": "code",
   "execution_count": 115,
   "id": "dbee65fb",
   "metadata": {},
   "outputs": [],
   "source": [
    "Employee.append(['varun','kiran'])"
   ]
  },
  {
   "cell_type": "code",
   "execution_count": 116,
   "id": "ee831192",
   "metadata": {},
   "outputs": [
    {
     "data": {
      "text/plain": [
       "['Anil', 'Kumar', 973383, ['varun', 'kiran']]"
      ]
     },
     "execution_count": 116,
     "metadata": {},
     "output_type": "execute_result"
    }
   ],
   "source": [
    "Employee"
   ]
  },
  {
   "cell_type": "markdown",
   "id": "a884f058",
   "metadata": {},
   "source": [
    "Append will create nested list but extend won't create nested list"
   ]
  },
  {
   "cell_type": "markdown",
   "id": "c37cc5a0",
   "metadata": {},
   "source": [
    "### Updation in List"
   ]
  },
  {
   "cell_type": "code",
   "execution_count": 118,
   "id": "2a4ae471",
   "metadata": {},
   "outputs": [],
   "source": [
    "Employee[1] = \"L\""
   ]
  },
  {
   "cell_type": "code",
   "execution_count": 119,
   "id": "1fdb19f4",
   "metadata": {},
   "outputs": [
    {
     "data": {
      "text/plain": [
       "['Anil', 'L', 973383]"
      ]
     },
     "execution_count": 119,
     "metadata": {},
     "output_type": "execute_result"
    }
   ],
   "source": [
    "Employee"
   ]
  },
  {
   "cell_type": "markdown",
   "id": "ed89a4a1",
   "metadata": {},
   "source": [
    "### Slicing in List\n",
    "\n",
    "we can access the elements from one to another using slice concept\n",
    "\n"
   ]
  },
  {
   "cell_type": "code",
   "execution_count": 137,
   "id": "2be68a0a",
   "metadata": {},
   "outputs": [
    {
     "data": {
      "text/plain": [
       "[123, 354, 'hello', 'car', 'bike', 23]"
      ]
     },
     "execution_count": 137,
     "metadata": {},
     "output_type": "execute_result"
    }
   ],
   "source": [
    "Employee"
   ]
  },
  {
   "cell_type": "code",
   "execution_count": 138,
   "id": "0b1b6ebd",
   "metadata": {},
   "outputs": [
    {
     "data": {
      "text/plain": [
       "[354, 'hello', 'car']"
      ]
     },
     "execution_count": 138,
     "metadata": {},
     "output_type": "execute_result"
    }
   ],
   "source": [
    "Employee[1:4]"
   ]
  },
  {
   "cell_type": "markdown",
   "id": "a5ba2e85",
   "metadata": {},
   "source": [
    "**--------------------------------------------------------------------------------------------------------------------------------------------------------------------------**"
   ]
  },
  {
   "cell_type": "markdown",
   "id": "d21f5a01",
   "metadata": {},
   "source": [
    "## Tuple\n",
    "\n",
    "* It is a collection which is ordered\n",
    "* It is unchangeable\n",
    "* It Allows duplicate members\n",
    "* It is Fixed size\n",
    "* There modification or adding element after creation tuple\n",
    "\n",
    "### Syntax\n",
    "\n",
    "            Variable Name = ( \"Anil\",123,True )"
   ]
  },
  {
   "cell_type": "code",
   "execution_count": 182,
   "id": "06e65b9e",
   "metadata": {},
   "outputs": [],
   "source": [
    "Employee = (\"Anil\",'sunil','varun',1,2,3,4,2,\"varun\")"
   ]
  },
  {
   "cell_type": "markdown",
   "id": "251a892f",
   "metadata": {},
   "source": [
    "### There is some function's in tuple "
   ]
  },
  {
   "cell_type": "markdown",
   "id": "01124bea",
   "metadata": {},
   "source": [
    "### *  Count ()\n",
    "\n",
    "It counts the elements in tuple"
   ]
  },
  {
   "cell_type": "code",
   "execution_count": 183,
   "id": "c152a3f0",
   "metadata": {},
   "outputs": [
    {
     "data": {
      "text/plain": [
       "1"
      ]
     },
     "execution_count": 183,
     "metadata": {},
     "output_type": "execute_result"
    }
   ],
   "source": [
    "Employee.count(3)"
   ]
  },
  {
   "cell_type": "code",
   "execution_count": 184,
   "id": "8f16713d",
   "metadata": {},
   "outputs": [
    {
     "data": {
      "text/plain": [
       "2"
      ]
     },
     "execution_count": 184,
     "metadata": {},
     "output_type": "execute_result"
    }
   ],
   "source": [
    "Employee.count('varun')"
   ]
  },
  {
   "cell_type": "markdown",
   "id": "1e621967",
   "metadata": {},
   "source": [
    "### * Index ()\n",
    "\n",
    "We can fech the index value on the basis of value "
   ]
  },
  {
   "cell_type": "code",
   "execution_count": 185,
   "id": "ce97d5b4",
   "metadata": {},
   "outputs": [
    {
     "data": {
      "text/plain": [
       "0"
      ]
     },
     "execution_count": 185,
     "metadata": {},
     "output_type": "execute_result"
    }
   ],
   "source": [
    "Employee.index('Anil')"
   ]
  },
  {
   "cell_type": "code",
   "execution_count": 186,
   "id": "2a37202a",
   "metadata": {},
   "outputs": [
    {
     "data": {
      "text/plain": [
       "2"
      ]
     },
     "execution_count": 186,
     "metadata": {},
     "output_type": "execute_result"
    }
   ],
   "source": [
    "Employee.index('varun')"
   ]
  },
  {
   "cell_type": "markdown",
   "id": "b0232c5d",
   "metadata": {},
   "source": [
    "* We can access element on basis of index"
   ]
  },
  {
   "cell_type": "code",
   "execution_count": 187,
   "id": "0fe81fd3",
   "metadata": {},
   "outputs": [
    {
     "data": {
      "text/plain": [
       "'sunil'"
      ]
     },
     "execution_count": 187,
     "metadata": {},
     "output_type": "execute_result"
    }
   ],
   "source": [
    "Employee[1]"
   ]
  },
  {
   "cell_type": "markdown",
   "id": "645cf4e4",
   "metadata": {},
   "source": [
    "### Slicing in Tuple\n",
    "\n",
    "we can access the elements from one point to another point using slice concept\n",
    "\n",
    "\n"
   ]
  },
  {
   "cell_type": "code",
   "execution_count": 151,
   "id": "10c66c67",
   "metadata": {},
   "outputs": [
    {
     "data": {
      "text/plain": [
       "('sunil', 'varun')"
      ]
     },
     "execution_count": 151,
     "metadata": {},
     "output_type": "execute_result"
    }
   ],
   "source": [
    "Employee[1:3]"
   ]
  },
  {
   "cell_type": "markdown",
   "id": "13ad0b30",
   "metadata": {},
   "source": [
    "**--------------------------------------------------------------------------------------------------------------------------------------------------------------------------**"
   ]
  },
  {
   "cell_type": "markdown",
   "id": "05cdd7ef",
   "metadata": {},
   "source": [
    "## Set\n",
    "* It is a collection which is unordered\n",
    "* It is immutable\n",
    "* It is unindexed\n",
    "* It doesn't allow duplicate members.\n",
    "\n",
    "### Syntax\n",
    "\n",
    "            Variable Name = { \"Anil\",123,True }"
   ]
  },
  {
   "cell_type": "code",
   "execution_count": 188,
   "id": "c0091d80",
   "metadata": {},
   "outputs": [],
   "source": [
    "Employee = { \"Anil\",'sunil','varun',1,2,3,4,2,\"varun\" }"
   ]
  },
  {
   "cell_type": "code",
   "execution_count": 189,
   "id": "2225e593",
   "metadata": {},
   "outputs": [
    {
     "data": {
      "text/plain": [
       "{1, 2, 3, 4, 'Anil', 'sunil', 'varun'}"
      ]
     },
     "execution_count": 189,
     "metadata": {},
     "output_type": "execute_result"
    }
   ],
   "source": [
    "Employee"
   ]
  },
  {
   "cell_type": "markdown",
   "id": "295e820d",
   "metadata": {},
   "source": [
    "### There is some function's in Set "
   ]
  },
  {
   "cell_type": "markdown",
   "id": "6d197ccb",
   "metadata": {},
   "source": [
    "### * Add()\n",
    "\n",
    "This function is used to store single element into the set"
   ]
  },
  {
   "cell_type": "code",
   "execution_count": 190,
   "id": "f8bd0cb6",
   "metadata": {},
   "outputs": [],
   "source": [
    "Employee.add(\"pavan\")"
   ]
  },
  {
   "cell_type": "code",
   "execution_count": 191,
   "id": "f106d530",
   "metadata": {},
   "outputs": [
    {
     "data": {
      "text/plain": [
       "{1, 2, 3, 4, 'Anil', 'pavan', 'sunil', 'varun'}"
      ]
     },
     "execution_count": 191,
     "metadata": {},
     "output_type": "execute_result"
    }
   ],
   "source": [
    "Employee"
   ]
  },
  {
   "cell_type": "markdown",
   "id": "b39203d4",
   "metadata": {},
   "source": [
    "### * Update ()\n",
    "\n",
    "This method is used to insert multiple elements into the set"
   ]
  },
  {
   "cell_type": "code",
   "execution_count": 192,
   "id": "ac7cb8aa",
   "metadata": {},
   "outputs": [],
   "source": [
    "Employee.update([12,34,55])"
   ]
  },
  {
   "cell_type": "code",
   "execution_count": 193,
   "id": "a5ff03b6",
   "metadata": {},
   "outputs": [
    {
     "data": {
      "text/plain": [
       "{1, 12, 2, 3, 34, 4, 55, 'Anil', 'pavan', 'sunil', 'varun'}"
      ]
     },
     "execution_count": 193,
     "metadata": {},
     "output_type": "execute_result"
    }
   ],
   "source": [
    "Employee"
   ]
  },
  {
   "cell_type": "markdown",
   "id": "2b595322",
   "metadata": {},
   "source": [
    "* in below code it will execute but it consider single character to add in set"
   ]
  },
  {
   "cell_type": "code",
   "execution_count": 194,
   "id": "f420d898",
   "metadata": {},
   "outputs": [],
   "source": [
    "Employee.update(\"ka\",\"ch\")"
   ]
  },
  {
   "cell_type": "code",
   "execution_count": 195,
   "id": "36097ffd",
   "metadata": {},
   "outputs": [
    {
     "data": {
      "text/plain": [
       "{1, 12, 2, 3, 34, 4, 55, 'Anil', 'a', 'c', 'h', 'k', 'pavan', 'sunil', 'varun'}"
      ]
     },
     "execution_count": 195,
     "metadata": {},
     "output_type": "execute_result"
    }
   ],
   "source": [
    "Employee"
   ]
  },
  {
   "cell_type": "markdown",
   "id": "a674b97b",
   "metadata": {},
   "source": [
    "### * Remove ()\n",
    "\n",
    "Removing the element from the set on basis of value"
   ]
  },
  {
   "cell_type": "code",
   "execution_count": 196,
   "id": "e458300d",
   "metadata": {},
   "outputs": [],
   "source": [
    "Employee.remove('a')"
   ]
  },
  {
   "cell_type": "code",
   "execution_count": 197,
   "id": "800cc095",
   "metadata": {},
   "outputs": [
    {
     "data": {
      "text/plain": [
       "{1, 12, 2, 3, 34, 4, 55, 'Anil', 'c', 'h', 'k', 'pavan', 'sunil', 'varun'}"
      ]
     },
     "execution_count": 197,
     "metadata": {},
     "output_type": "execute_result"
    }
   ],
   "source": [
    "Employee"
   ]
  },
  {
   "cell_type": "code",
   "execution_count": 199,
   "id": "4dd7e56e",
   "metadata": {},
   "outputs": [
    {
     "ename": "KeyError",
     "evalue": "'bb'",
     "output_type": "error",
     "traceback": [
      "\u001b[0;31m---------------------------------------------------------------------------\u001b[0m",
      "\u001b[0;31mKeyError\u001b[0m                                  Traceback (most recent call last)",
      "Input \u001b[0;32mIn [199]\u001b[0m, in \u001b[0;36m<cell line: 1>\u001b[0;34m()\u001b[0m\n\u001b[0;32m----> 1\u001b[0m \u001b[43mEmployee\u001b[49m\u001b[38;5;241;43m.\u001b[39;49m\u001b[43mremove\u001b[49m\u001b[43m(\u001b[49m\u001b[38;5;124;43m\"\u001b[39;49m\u001b[38;5;124;43mbb\u001b[39;49m\u001b[38;5;124;43m\"\u001b[39;49m\u001b[43m)\u001b[49m\n",
      "\u001b[0;31mKeyError\u001b[0m: 'bb'"
     ]
    }
   ],
   "source": [
    "Employee.remove(\"bb\")"
   ]
  },
  {
   "cell_type": "markdown",
   "id": "3fa0621f",
   "metadata": {},
   "source": [
    "* It will show some error if the value does'nt exit in set soo we use the \"Discard\" function"
   ]
  },
  {
   "cell_type": "markdown",
   "id": "64e157c7",
   "metadata": {},
   "source": [
    "### * Discard ()\n",
    "\n",
    "It is also same as remove but it's doesn't show error if they value doesn't exit in set "
   ]
  },
  {
   "cell_type": "code",
   "execution_count": 200,
   "id": "84074da2",
   "metadata": {},
   "outputs": [],
   "source": [
    "Employee.discard(\"ss\")"
   ]
  },
  {
   "cell_type": "code",
   "execution_count": 201,
   "id": "53aed46c",
   "metadata": {},
   "outputs": [],
   "source": [
    "Employee.discard(\"Anil\")"
   ]
  },
  {
   "cell_type": "code",
   "execution_count": 202,
   "id": "57863af0",
   "metadata": {},
   "outputs": [
    {
     "data": {
      "text/plain": [
       "{1, 12, 2, 3, 34, 4, 55, 'c', 'k', 'pavan', 'sunil', 'varun'}"
      ]
     },
     "execution_count": 202,
     "metadata": {},
     "output_type": "execute_result"
    }
   ],
   "source": [
    "Employee"
   ]
  },
  {
   "cell_type": "markdown",
   "id": "5f424db9",
   "metadata": {},
   "source": [
    "### * Pop ()\n",
    "\n",
    "This function is used to delete the last element in set but this pop function doesn't support index value"
   ]
  },
  {
   "cell_type": "code",
   "execution_count": 203,
   "id": "1f7453ca",
   "metadata": {},
   "outputs": [
    {
     "data": {
      "text/plain": [
       "'varun'"
      ]
     },
     "execution_count": 203,
     "metadata": {},
     "output_type": "execute_result"
    }
   ],
   "source": [
    "Employee.pop()"
   ]
  },
  {
   "cell_type": "code",
   "execution_count": 206,
   "id": "49f291bc",
   "metadata": {},
   "outputs": [
    {
     "data": {
      "text/plain": [
       "{1, 12, 2, 3, 34, 4, 55, 'c', 'k', 'pavan', 'sunil'}"
      ]
     },
     "execution_count": 206,
     "metadata": {},
     "output_type": "execute_result"
    }
   ],
   "source": [
    "Employee"
   ]
  },
  {
   "cell_type": "markdown",
   "id": "c6ff3c2c",
   "metadata": {},
   "source": [
    "**Some other built in function in Set**"
   ]
  },
  {
   "cell_type": "markdown",
   "id": "f001d351",
   "metadata": {},
   "source": [
    "* Union\n",
    "* Difference\n",
    "* Symmetric_difference\n",
    "* Intersection"
   ]
  },
  {
   "cell_type": "markdown",
   "id": "b6bfcc14",
   "metadata": {},
   "source": [
    "***--------------------------------------------------------------------------------------------------------------------------------------------------------------------------***"
   ]
  },
  {
   "cell_type": "markdown",
   "id": "3b78e852",
   "metadata": {},
   "source": [
    "## Dictionary \n",
    "* It is a collection which is ordered\n",
    "* It's work basis on Key and Value\n",
    "* It is changeable. \n",
    "* It doesn't allow duplicate keys but allows duplicate values.\n",
    "\n",
    "### Syntax\n",
    "\n",
    "            Variable Name = { Name: \"Anil\",Phone : 123, Student : True }"
   ]
  },
  {
   "cell_type": "code",
   "execution_count": 225,
   "id": "1e7df7d8",
   "metadata": {},
   "outputs": [],
   "source": [
    "Employee = {'Name' : \"Anil\", \"Age\" : 23 , \"Sex\" : \"Male\"}"
   ]
  },
  {
   "cell_type": "code",
   "execution_count": 209,
   "id": "0d99e49f",
   "metadata": {},
   "outputs": [
    {
     "data": {
      "text/plain": [
       "{'Name': 'Anil', 'Age': 23, 'Sex': 'Male'}"
      ]
     },
     "execution_count": 209,
     "metadata": {},
     "output_type": "execute_result"
    }
   ],
   "source": [
    "Employee"
   ]
  },
  {
   "cell_type": "markdown",
   "id": "9e959ddf",
   "metadata": {},
   "source": [
    "### There is some function's in Dictionary "
   ]
  },
  {
   "cell_type": "markdown",
   "id": "a8aa5d25",
   "metadata": {},
   "source": [
    "### * Items ()\n",
    "\n",
    "we can see the elements as under the list in dictionary"
   ]
  },
  {
   "cell_type": "code",
   "execution_count": 210,
   "id": "9a801441",
   "metadata": {},
   "outputs": [
    {
     "data": {
      "text/plain": [
       "dict_items([('Name', 'Anil'), ('Age', 23), ('Sex', 'Male')])"
      ]
     },
     "execution_count": 210,
     "metadata": {},
     "output_type": "execute_result"
    }
   ],
   "source": [
    "Employee.items()"
   ]
  },
  {
   "cell_type": "markdown",
   "id": "f09e6547",
   "metadata": {},
   "source": [
    "### * Keys()\n",
    "\n",
    "This function is used to extract the all keys"
   ]
  },
  {
   "cell_type": "code",
   "execution_count": 214,
   "id": "24253486",
   "metadata": {},
   "outputs": [
    {
     "data": {
      "text/plain": [
       "dict_keys(['Name', 'Age', 'Sex'])"
      ]
     },
     "execution_count": 214,
     "metadata": {},
     "output_type": "execute_result"
    }
   ],
   "source": [
    "Employee.keys()"
   ]
  },
  {
   "cell_type": "markdown",
   "id": "0e6130d0",
   "metadata": {},
   "source": [
    "### * Values()\n",
    "\n",
    "It is used to extract the values from the dict"
   ]
  },
  {
   "cell_type": "code",
   "execution_count": 217,
   "id": "7d0ea200",
   "metadata": {},
   "outputs": [
    {
     "data": {
      "text/plain": [
       "dict_values(['Anil', 23, 'Male'])"
      ]
     },
     "execution_count": 217,
     "metadata": {},
     "output_type": "execute_result"
    }
   ],
   "source": [
    "Employee.values()"
   ]
  },
  {
   "cell_type": "markdown",
   "id": "30aa60cf",
   "metadata": {},
   "source": [
    "### * Get()\n",
    "\n",
    "We can get the values on the basis of Key"
   ]
  },
  {
   "cell_type": "code",
   "execution_count": 218,
   "id": "4835609f",
   "metadata": {},
   "outputs": [
    {
     "data": {
      "text/plain": [
       "'Anil'"
      ]
     },
     "execution_count": 218,
     "metadata": {},
     "output_type": "execute_result"
    }
   ],
   "source": [
    "Employee.get(\"Name\")"
   ]
  },
  {
   "cell_type": "markdown",
   "id": "b3753b35",
   "metadata": {},
   "source": [
    "### * Pop()\n",
    "\n",
    "This function is used to remove the element on specified key"
   ]
  },
  {
   "cell_type": "code",
   "execution_count": 221,
   "id": "7b606565",
   "metadata": {},
   "outputs": [
    {
     "data": {
      "text/plain": [
       "'Male'"
      ]
     },
     "execution_count": 221,
     "metadata": {},
     "output_type": "execute_result"
    }
   ],
   "source": [
    "Employee.pop('Sex')"
   ]
  },
  {
   "cell_type": "code",
   "execution_count": 222,
   "id": "12499322",
   "metadata": {},
   "outputs": [
    {
     "data": {
      "text/plain": [
       "{'Name': 'Anil', 'Age': 23}"
      ]
     },
     "execution_count": 222,
     "metadata": {},
     "output_type": "execute_result"
    }
   ],
   "source": [
    "Employee"
   ]
  },
  {
   "cell_type": "markdown",
   "id": "4c79a4c1",
   "metadata": {},
   "source": [
    "### * PopItem()\n",
    "\n",
    "This function is used to remove the last element in the dictionary"
   ]
  },
  {
   "cell_type": "code",
   "execution_count": 223,
   "id": "42da696c",
   "metadata": {},
   "outputs": [
    {
     "data": {
      "text/plain": [
       "('Age', 23)"
      ]
     },
     "execution_count": 223,
     "metadata": {},
     "output_type": "execute_result"
    }
   ],
   "source": [
    "Employee.popitem()"
   ]
  },
  {
   "cell_type": "code",
   "execution_count": 224,
   "id": "d3423b99",
   "metadata": {},
   "outputs": [
    {
     "data": {
      "text/plain": [
       "{'Name': 'Anil'}"
      ]
     },
     "execution_count": 224,
     "metadata": {},
     "output_type": "execute_result"
    }
   ],
   "source": [
    "Employee"
   ]
  },
  {
   "cell_type": "markdown",
   "id": "0fc313cb",
   "metadata": {},
   "source": [
    "### * Adding Extra element to the Dictionary\n",
    "\n",
    "there is function to insert element we have to perform manualy"
   ]
  },
  {
   "cell_type": "code",
   "execution_count": 226,
   "id": "4e15f508",
   "metadata": {},
   "outputs": [],
   "source": [
    "Employee['Phone'] = 9882929322"
   ]
  },
  {
   "cell_type": "code",
   "execution_count": 227,
   "id": "f50531cf",
   "metadata": {},
   "outputs": [
    {
     "data": {
      "text/plain": [
       "{'Name': 'Anil', 'Age': 23, 'Sex': 'Male', 'Phone': 9882929322}"
      ]
     },
     "execution_count": 227,
     "metadata": {},
     "output_type": "execute_result"
    }
   ],
   "source": [
    "Employee"
   ]
  },
  {
   "cell_type": "markdown",
   "id": "8edebab9",
   "metadata": {},
   "source": [
    "### * Update\n",
    "\n",
    "this function is used to create update but if the key doesn't exit it will be create new \n"
   ]
  },
  {
   "cell_type": "code",
   "execution_count": 228,
   "id": "7c225ef5",
   "metadata": {},
   "outputs": [],
   "source": [
    "Employee['Name'] = 'Sunil'"
   ]
  },
  {
   "cell_type": "code",
   "execution_count": 229,
   "id": "f780dcf1",
   "metadata": {},
   "outputs": [
    {
     "data": {
      "text/plain": [
       "{'Name': 'Sunil', 'Age': 23, 'Sex': 'Male', 'Phone': 9882929322}"
      ]
     },
     "execution_count": 229,
     "metadata": {},
     "output_type": "execute_result"
    }
   ],
   "source": [
    "Employee"
   ]
  },
  {
   "cell_type": "markdown",
   "id": "03540d57",
   "metadata": {},
   "source": [
    "***--------------------------------------------------------------------------------------------------------------------------------------------------------------------------***"
   ]
  },
  {
   "cell_type": "markdown",
   "id": "a0fab8f5",
   "metadata": {},
   "source": [
    "## \" If Else \" condition"
   ]
  },
  {
   "cell_type": "markdown",
   "id": "76c97302",
   "metadata": {},
   "source": [
    "This techniques we used to perfrom some logicl operation in real world\n",
    "\n",
    "Syntax : \n",
    "\n",
    "            if condition :\n",
    "                True\n",
    "             else :\n",
    "                 False"
   ]
  },
  {
   "cell_type": "markdown",
   "id": "73c3429b",
   "metadata": {},
   "source": [
    "#### Exmaple 1"
   ]
  },
  {
   "cell_type": "code",
   "execution_count": 232,
   "id": "d4a4fe87",
   "metadata": {},
   "outputs": [
    {
     "name": "stdout",
     "output_type": "stream",
     "text": [
      "Yes, It's True\n"
     ]
    }
   ],
   "source": [
    "if 10 > 9 :\n",
    "    print(\"Yes, It's True\")\n",
    "else :\n",
    "    print(\"No, It's False\")"
   ]
  },
  {
   "cell_type": "markdown",
   "id": "e1e0bd8a",
   "metadata": {},
   "source": [
    "#### Exmaple 2"
   ]
  },
  {
   "cell_type": "code",
   "execution_count": 233,
   "id": "b13049c3",
   "metadata": {},
   "outputs": [
    {
     "name": "stdout",
     "output_type": "stream",
     "text": [
      "No, It's False\n"
     ]
    }
   ],
   "source": [
    "if 10 > 15 :\n",
    "    print(\"Yes, It's True\")\n",
    "else :\n",
    "    print(\"No, It's False\")"
   ]
  },
  {
   "cell_type": "markdown",
   "id": "665b2698",
   "metadata": {},
   "source": [
    "## \" If elif \" Condition"
   ]
  },
  {
   "cell_type": "code",
   "execution_count": 239,
   "id": "2df13528",
   "metadata": {},
   "outputs": [
    {
     "name": "stdout",
     "output_type": "stream",
     "text": [
      "Yes, It's True\n"
     ]
    }
   ],
   "source": [
    "if 10 > 16 :\n",
    "    print(\"Yes, It's True\")\n",
    "elif 10 > 5 :\n",
    "    print(\"Yes, It's True\")\n",
    "else :\n",
    "    print(\" Noo, Bye \")"
   ]
  },
  {
   "cell_type": "code",
   "execution_count": 240,
   "id": "698f14aa",
   "metadata": {},
   "outputs": [
    {
     "name": "stdout",
     "output_type": "stream",
     "text": [
      " Noo, Bye \n"
     ]
    }
   ],
   "source": [
    "if 10 > 16 :\n",
    "    print(\"Yes, It's True\")\n",
    "elif 10 > 15 :\n",
    "    print(\"Yes, It's True\")\n",
    "else :\n",
    "    print(\" Noo, Bye \")"
   ]
  },
  {
   "cell_type": "markdown",
   "id": "be22d832",
   "metadata": {},
   "source": [
    "**--------------------------------------------------------------------------------------------------------------------------------------------------------------------------**"
   ]
  },
  {
   "cell_type": "markdown",
   "id": "e91e1eb7",
   "metadata": {},
   "source": [
    "## Looping Condition\n",
    "\n",
    "Accessing data from the array one by by or interatiing the data until condition false,\n",
    "\n",
    "\n",
    "### For Loop\n",
    "\n",
    "Syntax :\n",
    "\n",
    "            For VariableName in Data:\n",
    "                 user requirement \n",
    "\n"
   ]
  },
  {
   "cell_type": "code",
   "execution_count": 243,
   "id": "8f732ccc",
   "metadata": {},
   "outputs": [
    {
     "name": "stdout",
     "output_type": "stream",
     "text": [
      "10\n",
      "20\n",
      "30\n",
      "40\n",
      "50\n"
     ]
    }
   ],
   "source": [
    "data = [10,20,30,40,50]\n",
    "for i in data:\n",
    "    print(i)"
   ]
  },
  {
   "cell_type": "markdown",
   "id": "08dc2899",
   "metadata": {},
   "source": [
    "### For Else Loop\n",
    "\n",
    "Syntax : \n",
    "\n",
    "            for varibalename in data:\n",
    "                    body\n",
    "            else :\n",
    "                    body"
   ]
  },
  {
   "cell_type": "code",
   "execution_count": 245,
   "id": "409559d3",
   "metadata": {},
   "outputs": [
    {
     "name": "stdout",
     "output_type": "stream",
     "text": [
      "10\n",
      "20\n",
      "30\n",
      "40\n",
      "50\n",
      "Completed\n"
     ]
    }
   ],
   "source": [
    "for i in data:\n",
    "    print(i)\n",
    "else :\n",
    "    print(\"Completed\")"
   ]
  },
  {
   "cell_type": "markdown",
   "id": "bce3d417",
   "metadata": {},
   "source": [
    "### While Loop\n",
    "\n",
    "Syntax :\n",
    "    \n",
    "                while condition :\n",
    "                    body"
   ]
  },
  {
   "cell_type": "code",
   "execution_count": 249,
   "id": "574472fb",
   "metadata": {},
   "outputs": [
    {
     "name": "stdout",
     "output_type": "stream",
     "text": [
      "10\n",
      "20\n"
     ]
    }
   ],
   "source": [
    "i = 0\n",
    "while data[i] < 30:\n",
    "    print(data[i])\n",
    "    i = i+1"
   ]
  },
  {
   "cell_type": "markdown",
   "id": "bd9854c0",
   "metadata": {},
   "source": [
    "### Break & Continue\n",
    "\n",
    "\n",
    "* Break is a keyword is used to terminate executetion from the current loop\n",
    "\n",
    "* Continue is a keyword is used to execute the statement if the condition is false from the loop"
   ]
  },
  {
   "cell_type": "code",
   "execution_count": 250,
   "id": "9a7f07eb",
   "metadata": {},
   "outputs": [
    {
     "name": "stdout",
     "output_type": "stream",
     "text": [
      "10\n"
     ]
    }
   ],
   "source": [
    "for i in data:\n",
    "    if i < 30 :\n",
    "        print(i)\n",
    "        break     ## the code cannot go back to iterate the values in loop"
   ]
  },
  {
   "cell_type": "code",
   "execution_count": 251,
   "id": "28870832",
   "metadata": {},
   "outputs": [
    {
     "name": "stdout",
     "output_type": "stream",
     "text": [
      "40\n",
      "50\n"
     ]
    }
   ],
   "source": [
    "for i in data:\n",
    "    if i > 30 :\n",
    "        print(i)\n",
    "        continue     ## the code can go back to iterate the values in loop"
   ]
  },
  {
   "cell_type": "markdown",
   "id": "0108ff8d",
   "metadata": {},
   "source": [
    "### Range \n",
    "\n",
    "\n",
    "this keyword can help to give the number without entering "
   ]
  },
  {
   "cell_type": "code",
   "execution_count": 256,
   "id": "6b9172ec",
   "metadata": {},
   "outputs": [
    {
     "data": {
      "text/plain": [
       "[0, 1, 2, 3, 4, 5, 6, 7, 8, 9]"
      ]
     },
     "execution_count": 256,
     "metadata": {},
     "output_type": "execute_result"
    }
   ],
   "source": [
    "list(range(10))"
   ]
  },
  {
   "cell_type": "code",
   "execution_count": 257,
   "id": "d62e5ed4",
   "metadata": {},
   "outputs": [
    {
     "data": {
      "text/plain": [
       "[1, 3, 5, 7, 9]"
      ]
     },
     "execution_count": 257,
     "metadata": {},
     "output_type": "execute_result"
    }
   ],
   "source": [
    "list(range(1,10,2))  # Start Stop Jump "
   ]
  },
  {
   "cell_type": "code",
   "execution_count": 259,
   "id": "d3859c66",
   "metadata": {},
   "outputs": [
    {
     "name": "stdout",
     "output_type": "stream",
     "text": [
      "0\n",
      "1\n",
      "2\n",
      "3\n",
      "4\n"
     ]
    }
   ],
   "source": [
    "for i in range(5):\n",
    "    print(i)"
   ]
  },
  {
   "cell_type": "markdown",
   "id": "2f74e1e9",
   "metadata": {},
   "source": [
    "## Functions"
   ]
  },
  {
   "cell_type": "markdown",
   "id": "494c7250",
   "metadata": {},
   "source": [
    "* A function is a block of code which only runs when it is called.\n",
    "\n",
    "* You can pass data, known as parameters, into a function.\n",
    "\n",
    "* A function can return data as a result."
   ]
  },
  {
   "cell_type": "markdown",
   "id": "0cd9daa7",
   "metadata": {},
   "source": [
    "#### Syntax :\n",
    "\n",
    "             def functionName(parameters):\n",
    "                 body"
   ]
  },
  {
   "cell_type": "code",
   "execution_count": 265,
   "id": "02b5a19d",
   "metadata": {},
   "outputs": [],
   "source": [
    "def name(firstname,lastname):\n",
    "    print(firstname+\" \"+lastname)"
   ]
  },
  {
   "cell_type": "markdown",
   "id": "5990796b",
   "metadata": {},
   "source": [
    "**Calling function with function name**"
   ]
  },
  {
   "cell_type": "code",
   "execution_count": 266,
   "id": "cc827444",
   "metadata": {},
   "outputs": [
    {
     "name": "stdout",
     "output_type": "stream",
     "text": [
      "anil kumar\n"
     ]
    }
   ],
   "source": [
    "name(\"anil\",\"kumar\")"
   ]
  },
  {
   "cell_type": "markdown",
   "id": "50ee8ff3",
   "metadata": {},
   "source": [
    "**Number of parameter use in function**"
   ]
  },
  {
   "cell_type": "code",
   "execution_count": 270,
   "id": "e866182e",
   "metadata": {},
   "outputs": [],
   "source": [
    "def name(*sudh):\n",
    "    return sudh"
   ]
  },
  {
   "cell_type": "code",
   "execution_count": 271,
   "id": "f4ad3966",
   "metadata": {},
   "outputs": [
    {
     "data": {
      "text/plain": [
       "('a', 'b')"
      ]
     },
     "execution_count": 271,
     "metadata": {},
     "output_type": "execute_result"
    }
   ],
   "source": [
    "name(\"a\",\"b\")"
   ]
  },
  {
   "cell_type": "markdown",
   "id": "0a7a57bf",
   "metadata": {},
   "source": [
    "## Lambda Function"
   ]
  },
  {
   "cell_type": "markdown",
   "id": "2b343a6c",
   "metadata": {},
   "source": [
    "* The function doesn't have name with efficient code is called lambda function\n",
    "* A lambda function can take any number of arguments, but can only have one expression."
   ]
  },
  {
   "cell_type": "code",
   "execution_count": 274,
   "id": "d1b65932",
   "metadata": {},
   "outputs": [],
   "source": [
    "A = lambda i : i"
   ]
  },
  {
   "cell_type": "code",
   "execution_count": 275,
   "id": "562c73b5",
   "metadata": {},
   "outputs": [
    {
     "data": {
      "text/plain": [
       "1"
      ]
     },
     "execution_count": 275,
     "metadata": {},
     "output_type": "execute_result"
    }
   ],
   "source": [
    "A(1)"
   ]
  },
  {
   "cell_type": "code",
   "execution_count": 276,
   "id": "f7aa7194",
   "metadata": {},
   "outputs": [],
   "source": [
    "B = lambda a,b : a * b"
   ]
  },
  {
   "cell_type": "code",
   "execution_count": 277,
   "id": "08332096",
   "metadata": {},
   "outputs": [
    {
     "data": {
      "text/plain": [
       "200"
      ]
     },
     "execution_count": 277,
     "metadata": {},
     "output_type": "execute_result"
    }
   ],
   "source": [
    "B(10,20)"
   ]
  },
  {
   "cell_type": "markdown",
   "id": "f1674491",
   "metadata": {},
   "source": [
    "## Comprehension"
   ]
  },
  {
   "cell_type": "markdown",
   "id": "b273ffa0",
   "metadata": {},
   "source": [
    "### Syntax:\n",
    "\n",
    "            newlist = [expression for item in iterable if condition == True]\n"
   ]
  },
  {
   "cell_type": "code",
   "execution_count": 281,
   "id": "ad9f0671",
   "metadata": {},
   "outputs": [],
   "source": [
    "Fruits = ['apple','orange','banana','graphes','pineapple']"
   ]
  },
  {
   "cell_type": "code",
   "execution_count": 284,
   "id": "4510d84a",
   "metadata": {},
   "outputs": [],
   "source": [
    "F = [i for i in Fruits if \"p\" in i]"
   ]
  },
  {
   "cell_type": "code",
   "execution_count": 285,
   "id": "c1d6c36e",
   "metadata": {},
   "outputs": [
    {
     "data": {
      "text/plain": [
       "['apple', 'graphes', 'pineapple']"
      ]
     },
     "execution_count": 285,
     "metadata": {},
     "output_type": "execute_result"
    }
   ],
   "source": [
    "F"
   ]
  },
  {
   "cell_type": "markdown",
   "id": "ccc9abec",
   "metadata": {},
   "source": [
    "## Interator\n",
    "* An iterator is an object that contains a countable number of values."
   ]
  },
  {
   "cell_type": "code",
   "execution_count": 286,
   "id": "ca8bfc6a",
   "metadata": {},
   "outputs": [
    {
     "name": "stdout",
     "output_type": "stream",
     "text": [
      "apple\n",
      "banana\n",
      "cherry\n"
     ]
    }
   ],
   "source": [
    "mytuple = (\"apple\", \"banana\", \"cherry\")  # it is iterable now\n",
    "myit = iter(mytuple)    # it is converted into interator\n",
    "\n",
    "print(next(myit))\n",
    "print(next(myit))\n",
    "print(next(myit))"
   ]
  }
 ],
 "metadata": {
  "kernelspec": {
   "display_name": "Python 3 (ipykernel)",
   "language": "python",
   "name": "python3"
  },
  "language_info": {
   "codemirror_mode": {
    "name": "ipython",
    "version": 3
   },
   "file_extension": ".py",
   "mimetype": "text/x-python",
   "name": "python",
   "nbconvert_exporter": "python",
   "pygments_lexer": "ipython3",
   "version": "3.9.12"
  }
 },
 "nbformat": 4,
 "nbformat_minor": 5
}
